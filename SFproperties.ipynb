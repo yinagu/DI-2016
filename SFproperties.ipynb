{
 "cells": [
  {
   "cell_type": "code",
   "execution_count": 1,
   "metadata": {
    "collapsed": true
   },
   "outputs": [],
   "source": [
    "import numpy as np\n",
    "import pandas as pd\n",
    "import seaborn as sns\n",
    "import matplotlib.pyplot as plt\n",
    "% matplotlib inline\n",
    "from __future__ import division\n",
    "import math\n",
    "from sklearn.linear_model import LinearRegression"
   ]
  },
  {
   "cell_type": "code",
   "execution_count": 2,
   "metadata": {
    "collapsed": false
   },
   "outputs": [
    {
     "name": "stderr",
     "output_type": "stream",
     "text": [
      "/Users/yinagu/anaconda2/lib/python2.7/site-packages/IPython/core/interactiveshell.py:2723: DtypeWarning: Columns (29) have mixed types. Specify dtype option on import or set low_memory=False.\n",
      "  interactivity=interactivity, compiler=compiler, result=result)\n"
     ]
    }
   ],
   "source": [
    "sf = pd.read_csv(\"/Users/yinagu/Downloads/Historic_Secured_Property_Tax_Rolls.csv\")"
   ]
  },
  {
   "cell_type": "code",
   "execution_count": 3,
   "metadata": {
    "collapsed": false
   },
   "outputs": [
    {
     "data": {
      "text/html": [
       "<div>\n",
       "<table border=\"1\" class=\"dataframe\">\n",
       "  <thead>\n",
       "    <tr style=\"text-align: right;\">\n",
       "      <th></th>\n",
       "      <th>Closed Roll Fiscal Year</th>\n",
       "      <th>Property Location</th>\n",
       "      <th>Neighborhood Code</th>\n",
       "      <th>Neighborhood Code Definition</th>\n",
       "      <th>Block and Lot Number</th>\n",
       "      <th>Volume Number</th>\n",
       "      <th>Property Class Code</th>\n",
       "      <th>Property Class Code Definition</th>\n",
       "      <th>Year Property Built</th>\n",
       "      <th>Number of Bathrooms</th>\n",
       "      <th>...</th>\n",
       "      <th>Closed Roll Homeowner Exemption Value</th>\n",
       "      <th>Current Sales Date</th>\n",
       "      <th>Closed Roll Assessed Fixtures Value</th>\n",
       "      <th>Closed Roll Assessed Improvement Value</th>\n",
       "      <th>Closed Roll Assessed Land Value</th>\n",
       "      <th>Closed Roll Assessed Personal Prop Value</th>\n",
       "      <th>Zipcode of Parcel</th>\n",
       "      <th>Supervisor District</th>\n",
       "      <th>Neighborhoods - Analysis Boundaries</th>\n",
       "      <th>Location</th>\n",
       "    </tr>\n",
       "  </thead>\n",
       "  <tbody>\n",
       "    <tr>\n",
       "      <th>0</th>\n",
       "      <td>2008.0</td>\n",
       "      <td>0000 2530 BROADWAY              0000</td>\n",
       "      <td>07B</td>\n",
       "      <td>Pacific Heights</td>\n",
       "      <td>0561035</td>\n",
       "      <td>5</td>\n",
       "      <td>Z</td>\n",
       "      <td>Condominium</td>\n",
       "      <td>1905.0</td>\n",
       "      <td>1.0</td>\n",
       "      <td>...</td>\n",
       "      <td>7000.0</td>\n",
       "      <td>11/10/1987</td>\n",
       "      <td>0.0</td>\n",
       "      <td>728627.0</td>\n",
       "      <td>255013.0</td>\n",
       "      <td>0.0</td>\n",
       "      <td>94123.0</td>\n",
       "      <td>2.0</td>\n",
       "      <td>Pacific Heights</td>\n",
       "      <td>(37.7940340294332, -122.43876013275)</td>\n",
       "    </tr>\n",
       "    <tr>\n",
       "      <th>1</th>\n",
       "      <td>2008.0</td>\n",
       "      <td>1114 1108 CHURCH              ST0000</td>\n",
       "      <td>05C</td>\n",
       "      <td>Noe Valley</td>\n",
       "      <td>3651002</td>\n",
       "      <td>24</td>\n",
       "      <td>A</td>\n",
       "      <td>Apartment</td>\n",
       "      <td>1908.0</td>\n",
       "      <td>4.0</td>\n",
       "      <td>...</td>\n",
       "      <td>0.0</td>\n",
       "      <td>NaN</td>\n",
       "      <td>0.0</td>\n",
       "      <td>65944.0</td>\n",
       "      <td>45891.0</td>\n",
       "      <td>0.0</td>\n",
       "      <td>94114.0</td>\n",
       "      <td>8.0</td>\n",
       "      <td>Noe Valley</td>\n",
       "      <td>(37.7530509295886, -122.427855211117)</td>\n",
       "    </tr>\n",
       "    <tr>\n",
       "      <th>2</th>\n",
       "      <td>2009.0</td>\n",
       "      <td>0000 0000                       0000</td>\n",
       "      <td>08G</td>\n",
       "      <td>Telegraph Hill</td>\n",
       "      <td>0087028</td>\n",
       "      <td>1</td>\n",
       "      <td>V</td>\n",
       "      <td>Vacant Lot</td>\n",
       "      <td>NaN</td>\n",
       "      <td>0.0</td>\n",
       "      <td>...</td>\n",
       "      <td>0.0</td>\n",
       "      <td>NaN</td>\n",
       "      <td>0.0</td>\n",
       "      <td>0.0</td>\n",
       "      <td>0.0</td>\n",
       "      <td>0.0</td>\n",
       "      <td>NaN</td>\n",
       "      <td>NaN</td>\n",
       "      <td>NaN</td>\n",
       "      <td>NaN</td>\n",
       "    </tr>\n",
       "    <tr>\n",
       "      <th>3</th>\n",
       "      <td>2007.0</td>\n",
       "      <td>0000 2625 24TH                ST0000</td>\n",
       "      <td>09C</td>\n",
       "      <td>Inner ission</td>\n",
       "      <td>4264026</td>\n",
       "      <td>28</td>\n",
       "      <td>V</td>\n",
       "      <td>Vacant Lot</td>\n",
       "      <td>NaN</td>\n",
       "      <td>0.0</td>\n",
       "      <td>...</td>\n",
       "      <td>0.0</td>\n",
       "      <td>11/04/1940</td>\n",
       "      <td>0.0</td>\n",
       "      <td>0.0</td>\n",
       "      <td>875496.0</td>\n",
       "      <td>0.0</td>\n",
       "      <td>NaN</td>\n",
       "      <td>NaN</td>\n",
       "      <td>NaN</td>\n",
       "      <td>NaN</td>\n",
       "    </tr>\n",
       "    <tr>\n",
       "      <th>4</th>\n",
       "      <td>2013.0</td>\n",
       "      <td>0000 0000 BERRY               ST0000</td>\n",
       "      <td>08H</td>\n",
       "      <td>North Waterfront</td>\n",
       "      <td>9900336</td>\n",
       "      <td>44</td>\n",
       "      <td>Y</td>\n",
       "      <td>Port Commission Property</td>\n",
       "      <td>NaN</td>\n",
       "      <td>0.0</td>\n",
       "      <td>...</td>\n",
       "      <td>0.0</td>\n",
       "      <td>NaN</td>\n",
       "      <td>0.0</td>\n",
       "      <td>0.0</td>\n",
       "      <td>0.0</td>\n",
       "      <td>0.0</td>\n",
       "      <td>NaN</td>\n",
       "      <td>NaN</td>\n",
       "      <td>NaN</td>\n",
       "      <td>NaN</td>\n",
       "    </tr>\n",
       "  </tbody>\n",
       "</table>\n",
       "<p>5 rows × 43 columns</p>\n",
       "</div>"
      ],
      "text/plain": [
       "   Closed Roll Fiscal Year                     Property Location  \\\n",
       "0                   2008.0  0000 2530 BROADWAY              0000   \n",
       "1                   2008.0  1114 1108 CHURCH              ST0000   \n",
       "2                   2009.0  0000 0000                       0000   \n",
       "3                   2007.0  0000 2625 24TH                ST0000   \n",
       "4                   2013.0  0000 0000 BERRY               ST0000   \n",
       "\n",
       "  Neighborhood Code Neighborhood Code Definition Block and Lot Number  \\\n",
       "0               07B              Pacific Heights              0561035   \n",
       "1               05C                   Noe Valley              3651002   \n",
       "2               08G               Telegraph Hill              0087028   \n",
       "3               09C                 Inner ission              4264026   \n",
       "4               08H             North Waterfront              9900336   \n",
       "\n",
       "   Volume Number Property Class Code Property Class Code Definition  \\\n",
       "0              5                   Z                    Condominium   \n",
       "1             24                   A                      Apartment   \n",
       "2              1                   V                     Vacant Lot   \n",
       "3             28                   V                     Vacant Lot   \n",
       "4             44                   Y       Port Commission Property   \n",
       "\n",
       "   Year Property Built  Number of Bathrooms  \\\n",
       "0               1905.0                  1.0   \n",
       "1               1908.0                  4.0   \n",
       "2                  NaN                  0.0   \n",
       "3                  NaN                  0.0   \n",
       "4                  NaN                  0.0   \n",
       "\n",
       "                   ...                    \\\n",
       "0                  ...                     \n",
       "1                  ...                     \n",
       "2                  ...                     \n",
       "3                  ...                     \n",
       "4                  ...                     \n",
       "\n",
       "   Closed Roll Homeowner Exemption Value  Current Sales Date  \\\n",
       "0                                 7000.0          11/10/1987   \n",
       "1                                    0.0                 NaN   \n",
       "2                                    0.0                 NaN   \n",
       "3                                    0.0          11/04/1940   \n",
       "4                                    0.0                 NaN   \n",
       "\n",
       "   Closed Roll Assessed Fixtures Value  \\\n",
       "0                                  0.0   \n",
       "1                                  0.0   \n",
       "2                                  0.0   \n",
       "3                                  0.0   \n",
       "4                                  0.0   \n",
       "\n",
       "   Closed Roll Assessed Improvement Value Closed Roll Assessed Land Value  \\\n",
       "0                                728627.0                        255013.0   \n",
       "1                                 65944.0                         45891.0   \n",
       "2                                     0.0                             0.0   \n",
       "3                                     0.0                        875496.0   \n",
       "4                                     0.0                             0.0   \n",
       "\n",
       "  Closed Roll Assessed Personal Prop Value Zipcode of Parcel  \\\n",
       "0                                      0.0           94123.0   \n",
       "1                                      0.0           94114.0   \n",
       "2                                      0.0               NaN   \n",
       "3                                      0.0               NaN   \n",
       "4                                      0.0               NaN   \n",
       "\n",
       "   Supervisor District  Neighborhoods - Analysis Boundaries  \\\n",
       "0                  2.0                      Pacific Heights   \n",
       "1                  8.0                           Noe Valley   \n",
       "2                  NaN                                  NaN   \n",
       "3                  NaN                                  NaN   \n",
       "4                  NaN                                  NaN   \n",
       "\n",
       "                                Location  \n",
       "0   (37.7940340294332, -122.43876013275)  \n",
       "1  (37.7530509295886, -122.427855211117)  \n",
       "2                                    NaN  \n",
       "3                                    NaN  \n",
       "4                                    NaN  \n",
       "\n",
       "[5 rows x 43 columns]"
      ]
     },
     "execution_count": 3,
     "metadata": {},
     "output_type": "execute_result"
    }
   ],
   "source": [
    "sf.head()"
   ]
  },
  {
   "cell_type": "code",
   "execution_count": 4,
   "metadata": {
    "collapsed": false
   },
   "outputs": [
    {
     "data": {
      "text/plain": [
       "1612110"
      ]
     },
     "execution_count": 4,
     "metadata": {},
     "output_type": "execute_result"
    }
   ],
   "source": [
    "len(sf)"
   ]
  },
  {
   "cell_type": "code",
   "execution_count": 5,
   "metadata": {
    "collapsed": false
   },
   "outputs": [
    {
     "data": {
      "text/plain": [
       "0.47097598637581212"
      ]
     },
     "execution_count": 5,
     "metadata": {},
     "output_type": "execute_result"
    }
   ],
   "source": [
    "########## Q2-1: What fraction of assessments are for properties of the most common class?\n",
    "# The most common class is D\n",
    "sf['Property Class Code'].value_counts().max()/sf['Property Class Code'].value_counts().sum()"
   ]
  },
  {
   "cell_type": "code",
   "execution_count": 6,
   "metadata": {
    "collapsed": false
   },
   "outputs": [
    {
     "data": {
      "text/plain": [
       "count     1611252\n",
       "unique        101\n",
       "top             D\n",
       "freq       758861\n",
       "Name: Property Class Code, dtype: object"
      ]
     },
     "execution_count": 6,
     "metadata": {},
     "output_type": "execute_result"
    }
   ],
   "source": [
    "sf['Property Class Code'].describe()"
   ]
  },
  {
   "cell_type": "code",
   "execution_count": 7,
   "metadata": {
    "collapsed": false
   },
   "outputs": [],
   "source": [
    "# Take only the latest assessment value for each property, \n",
    "# identified by the \"Block and Lot Number\" column.\n",
    "sf.sort_values(by='Closed Roll Fiscal Year', axis = 0, inplace=True)\n",
    "sf_unique = sf.drop_duplicates('Block and Lot Number', keep='last')"
   ]
  },
  {
   "cell_type": "code",
   "execution_count": 8,
   "metadata": {
    "collapsed": true
   },
   "outputs": [],
   "source": [
    "#  Consider only non-zero assessments\n",
    "sf_unique_nonzero= sf_unique.loc[sf_unique['Closed Roll Assessed Improvement Value']!=0]"
   ]
  },
  {
   "cell_type": "code",
   "execution_count": 35,
   "metadata": {
    "collapsed": false
   },
   "outputs": [
    {
     "name": "stdout",
     "output_type": "stream",
     "text": [
      "median is 209244.5000000000\n"
     ]
    }
   ],
   "source": [
    "########## Q2-2: What is the median assessed improvement value?\n",
    "print 'median is %.10f' %sf_unique_nonzero['Closed Roll Assessed Improvement Value'].median()"
   ]
  },
  {
   "cell_type": "code",
   "execution_count": 29,
   "metadata": {
    "collapsed": false
   },
   "outputs": [
    {
     "data": {
      "text/plain": [
       "5085780.383029256"
      ]
     },
     "execution_count": 29,
     "metadata": {},
     "output_type": "execute_result"
    }
   ],
   "source": [
    "########## Q2-3: Calculate the average improvement value (using only non-zero assessments) in each neighborhood.\n",
    "avg_imp_ngb = sf_unique_nonzero.groupby('Neighborhood Code')['Closed Roll Assessed Improvement Value'].mean()\n",
    "#  difference between the greatest and least average values\n",
    "avg_imp_ngb.max()-avg_imp_ngb.min(dtype = np.float64)"
   ]
  },
  {
   "cell_type": "code",
   "execution_count": 11,
   "metadata": {
    "collapsed": false
   },
   "outputs": [],
   "source": [
    "########## Q2-4:What is the yearly growth rate of Land Values over the years covered by this data? \n",
    "# Take a simplistic model: the value is given by P=P0exp(rt), where t is measured in years. \n",
    "# A more complete model would give each property its own base price P(i)0. Estimate r\n",
    "# over all assessments with a non-zero land value. (Hint: Consider using linear regression and logarithms.)\n",
    "sf_land= sf[['Year Property Built','Closed Roll Fiscal Year','Closed Roll Assessed Land Value']\n",
    "                    ].loc[sf['Closed Roll Assessed Land Value']!=0]"
   ]
  },
  {
   "cell_type": "code",
   "execution_count": 12,
   "metadata": {
    "collapsed": false
   },
   "outputs": [
    {
     "data": {
      "text/html": [
       "<div>\n",
       "<table border=\"1\" class=\"dataframe\">\n",
       "  <thead>\n",
       "    <tr style=\"text-align: right;\">\n",
       "      <th></th>\n",
       "      <th>Year Property Built</th>\n",
       "      <th>Closed Roll Fiscal Year</th>\n",
       "      <th>Closed Roll Assessed Land Value</th>\n",
       "    </tr>\n",
       "  </thead>\n",
       "  <tbody>\n",
       "    <tr>\n",
       "      <th>1073300</th>\n",
       "      <td>2004.0</td>\n",
       "      <td>2007.0</td>\n",
       "      <td>70506.0</td>\n",
       "    </tr>\n",
       "    <tr>\n",
       "      <th>1058055</th>\n",
       "      <td>1926.0</td>\n",
       "      <td>2007.0</td>\n",
       "      <td>715085.0</td>\n",
       "    </tr>\n",
       "    <tr>\n",
       "      <th>1058039</th>\n",
       "      <td>1908.0</td>\n",
       "      <td>2007.0</td>\n",
       "      <td>42925.0</td>\n",
       "    </tr>\n",
       "    <tr>\n",
       "      <th>1058029</th>\n",
       "      <td>1959.0</td>\n",
       "      <td>2007.0</td>\n",
       "      <td>30674.0</td>\n",
       "    </tr>\n",
       "    <tr>\n",
       "      <th>1058028</th>\n",
       "      <td>1983.0</td>\n",
       "      <td>2007.0</td>\n",
       "      <td>158395.0</td>\n",
       "    </tr>\n",
       "  </tbody>\n",
       "</table>\n",
       "</div>"
      ],
      "text/plain": [
       "         Year Property Built  Closed Roll Fiscal Year  \\\n",
       "1073300               2004.0                   2007.0   \n",
       "1058055               1926.0                   2007.0   \n",
       "1058039               1908.0                   2007.0   \n",
       "1058029               1959.0                   2007.0   \n",
       "1058028               1983.0                   2007.0   \n",
       "\n",
       "         Closed Roll Assessed Land Value  \n",
       "1073300                          70506.0  \n",
       "1058055                         715085.0  \n",
       "1058039                          42925.0  \n",
       "1058029                          30674.0  \n",
       "1058028                         158395.0  "
      ]
     },
     "execution_count": 12,
     "metadata": {},
     "output_type": "execute_result"
    }
   ],
   "source": [
    "sf_land.dropna(axis=0, inplace = True)\n",
    "sf_land.head()"
   ]
  },
  {
   "cell_type": "code",
   "execution_count": 13,
   "metadata": {
    "collapsed": false
   },
   "outputs": [],
   "source": [
    "# log(p) = r*x + log(p0)\n",
    "#x = (sf_land['Closed Roll Fiscal Year']-sf_land['Year Property Built']).reshape(len(sf_land), 1)\n",
    "x = (sf_land['Closed Roll Fiscal Year']-2007).reshape(len(sf_land), 1)\n",
    "target = np.array([math.log(v) for v in sf_land['Closed Roll Assessed Land Value']]).reshape(len(sf_land),1)"
   ]
  },
  {
   "cell_type": "code",
   "execution_count": 14,
   "metadata": {
    "collapsed": false
   },
   "outputs": [
    {
     "data": {
      "text/plain": [
       "<seaborn.axisgrid.JointGrid at 0x152829650>"
      ]
     },
     "execution_count": 14,
     "metadata": {},
     "output_type": "execute_result"
    },
    {
     "data": {
      "image/png": "[encoded data removed]",
      "text/plain": [
       "<matplotlib.figure.Figure at 0x107555d10>"
      ]
     },
     "metadata": {},
     "output_type": "display_data"
    }
   ],
   "source": [
    "sns.jointplot(x, target, kind='scatter')"
   ]
  },
  {
   "cell_type": "code",
   "execution_count": 34,
   "metadata": {
    "collapsed": false
   },
   "outputs": [
    {
     "name": "stdout",
     "output_type": "stream",
     "text": [
      "The yearly growth rate of land values is: 0.0463973914\n"
     ]
    }
   ],
   "source": [
    "# Create linear regression model\n",
    "lreg = LinearRegression()\n",
    "lreg.fit(x, target)\n",
    "print \"The yearly growth rate of land values is: %.10f\" %(lreg.coef_)"
   ]
  },
  {
   "cell_type": "code",
   "execution_count": 16,
   "metadata": {
    "collapsed": false
   },
   "outputs": [
    {
     "name": "stdout",
     "output_type": "stream",
     "text": [
      "The base price for all assessments is: 140454.622901\n"
     ]
    }
   ],
   "source": [
    "print \"The base price for all assessments is: %.9f\" %math.exp(lreg.intercept_)"
   ]
  },
  {
   "cell_type": "code",
   "execution_count": 17,
   "metadata": {
    "collapsed": false
   },
   "outputs": [
    {
     "name": "stderr",
     "output_type": "stream",
     "text": [
      "/Users/yinagu/anaconda2/lib/python2.7/site-packages/ipykernel/__main__.py:6: SettingWithCopyWarning: \n",
      "A value is trying to be set on a copy of a slice from a DataFrame.\n",
      "Try using .loc[row_indexer,col_indexer] = value instead\n",
      "\n",
      "See the caveats in the documentation: http://pandas.pydata.org/pandas-docs/stable/indexing.html#indexing-view-versus-copy\n",
      "/Users/yinagu/anaconda2/lib/python2.7/site-packages/ipykernel/__main__.py:7: SettingWithCopyWarning: \n",
      "A value is trying to be set on a copy of a slice from a DataFrame.\n",
      "Try using .loc[row_indexer,col_indexer] = value instead\n",
      "\n",
      "See the caveats in the documentation: http://pandas.pydata.org/pandas-docs/stable/indexing.html#indexing-view-versus-copy\n"
     ]
    }
   ],
   "source": [
    "########## Q2-5: We can use the property locations to estimate the areas of the neighborhoods. \n",
    "# Represent each as an ellipse with semi-axes given by a single standard deviation of \n",
    "# the longitude and latitude. What is the area, in square kilometers, of the largest \n",
    "# neighborhood measured in this manner? Be sure to filter out invalid coordinates.\n",
    "sf_unique_loc = sf_unique.dropna(subset=['Location'], axis=0)\n",
    "sf_unique_loc['lat'] = [float(loc[1:-1].split(',')[0]) for loc in sf_unique_loc['Location']]\n",
    "sf_unique_loc['lng'] = [float(loc[1:-1].split(',')[1]) for loc in sf_unique_loc['Location']]"
   ]
  },
  {
   "cell_type": "code",
   "execution_count": 18,
   "metadata": {
    "collapsed": false
   },
   "outputs": [
    {
     "data": {
      "text/plain": [
       "<seaborn.axisgrid.JointGrid at 0x152829f90>"
      ]
     },
     "execution_count": 18,
     "metadata": {},
     "output_type": "execute_result"
    },
    {
     "data": {
      "image/png": "[encoded data removed]",
      "text/plain": [
       "<matplotlib.figure.Figure at 0x11be12710>"
      ]
     },
     "metadata": {},
     "output_type": "display_data"
    }
   ],
   "source": [
    "# Visulize the location data to spot any outlier\n",
    "sns.jointplot('lat', 'lng', sf_unique_loc, kind='scatter')\n"
   ]
  },
  {
   "cell_type": "code",
   "execution_count": 19,
   "metadata": {
    "collapsed": false
   },
   "outputs": [],
   "source": [
    "# Calculte STD of latitude and longitude grouped by neighborhood\n",
    "std_latlng_ngb = pd.DataFrame(sf_unique_loc.groupby('Neighborhood Code')[['lat','lng']].std())\n"
   ]
  },
  {
   "cell_type": "code",
   "execution_count": 36,
   "metadata": {
    "collapsed": false
   },
   "outputs": [
    {
     "name": "stdout",
     "output_type": "stream",
     "text": [
      "The area of the largest neighborhood is 3.8446572598\n"
     ]
    }
   ],
   "source": [
    "# Each degree at the equator represents approximately 111.32 km\n",
    "# Area of ellipe is pi * a * b (where a,b are semi-major/minor axis length)\n",
    "deg2len = 111.32\n",
    "std_latlng_ngb['area'] = math.pi* std_latlng_ngb['lat']* deg2len * std_latlng_ngb['lng'] * deg2len\n",
    "print 'The area of the largest neighborhood is %.10f' %(std_latlng_ngb['area'].max()) "
   ]
  },
  {
   "cell_type": "code",
   "execution_count": 21,
   "metadata": {
    "collapsed": false
   },
   "outputs": [
    {
     "data": {
      "text/plain": [
       "count    1.612110e+06\n",
       "mean     1.843129e+00\n",
       "std      1.524191e+01\n",
       "min      0.000000e+00\n",
       "25%      1.000000e+00\n",
       "50%      1.000000e+00\n",
       "75%      1.000000e+00\n",
       "max      4.000000e+03\n",
       "Name: Number of Units, dtype: float64"
      ]
     },
     "execution_count": 21,
     "metadata": {},
     "output_type": "execute_result"
    }
   ],
   "source": [
    "######### Q2-6:\n",
    "#What is the difference between the average number of units in buildings \n",
    "# build in or after 1950, and that for buildings built before 1950? \n",
    "\n",
    "sf['Number of Units'].describe()"
   ]
  },
  {
   "cell_type": "code",
   "execution_count": 22,
   "metadata": {
    "collapsed": false
   },
   "outputs": [
    {
     "data": {
      "text/plain": [
       "count    163774.000000\n",
       "mean       1936.927534\n",
       "std          28.428480\n",
       "min        1791.000000\n",
       "25%        1913.000000\n",
       "50%        1930.000000\n",
       "75%        1953.000000\n",
       "max        2015.000000\n",
       "Name: Year Property Built, dtype: float64"
      ]
     },
     "execution_count": 22,
     "metadata": {},
     "output_type": "execute_result"
    }
   ],
   "source": [
    "# use the earliest record for each property\n",
    "sf_unique_first = sf.drop_duplicates('Block and Lot Number', keep='first')\n",
    "# buildings that have non-zero units\n",
    "unit_nonzero = sf_unique_first.loc[sf_unique_first['Number of Units'] != 0]\n",
    "# filter out the building with incorrect built year\n",
    "unit_nonzero = unit_nonzero.loc[(unit_nonzero['Year Property Built']<2016) & (unit_nonzero['Year Property Built']>1776)]\n",
    "unit_nonzero['Year Property Built'].describe()"
   ]
  },
  {
   "cell_type": "code",
   "execution_count": 37,
   "metadata": {
    "collapsed": false
   },
   "outputs": [
    {
     "name": "stdout",
     "output_type": "stream",
     "text": [
      "The difference between the average number of units after and before 1950 is 0.4198568573\n"
     ]
    }
   ],
   "source": [
    "# Create a boolean column indicate if building was built before 1950\n",
    "unit_nonzero['1950'] = unit_nonzero['Year Property Built'] < 1950\n",
    "df = pd.DataFrame(unit_nonzero.groupby('1950')['Number of Units'].mean())\n",
    "print \"The difference between the average number of units after and before 1950 is %.10f\" %(df.ix[0]-df.ix[1])"
   ]
  },
  {
   "cell_type": "code",
   "execution_count": 24,
   "metadata": {
    "collapsed": false
   },
   "outputs": [
    {
     "data": {
      "text/html": [
       "<div>\n",
       "<table border=\"1\" class=\"dataframe\">\n",
       "  <thead>\n",
       "    <tr style=\"text-align: right;\">\n",
       "      <th></th>\n",
       "      <th>Number of Bedrooms</th>\n",
       "      <th>Number of Units</th>\n",
       "    </tr>\n",
       "    <tr>\n",
       "      <th>Zipcode of Parcel</th>\n",
       "      <th></th>\n",
       "      <th></th>\n",
       "    </tr>\n",
       "  </thead>\n",
       "  <tbody>\n",
       "    <tr>\n",
       "      <th>94102.0</th>\n",
       "      <td>7.118048</td>\n",
       "      <td>6.451759</td>\n",
       "    </tr>\n",
       "    <tr>\n",
       "      <th>94103.0</th>\n",
       "      <td>3.823460</td>\n",
       "      <td>3.105450</td>\n",
       "    </tr>\n",
       "    <tr>\n",
       "      <th>94105.0</th>\n",
       "      <td>1.519444</td>\n",
       "      <td>1.000000</td>\n",
       "    </tr>\n",
       "    <tr>\n",
       "      <th>94107.0</th>\n",
       "      <td>2.047434</td>\n",
       "      <td>1.090987</td>\n",
       "    </tr>\n",
       "    <tr>\n",
       "      <th>94108.0</th>\n",
       "      <td>2.868056</td>\n",
       "      <td>2.004630</td>\n",
       "    </tr>\n",
       "  </tbody>\n",
       "</table>\n",
       "</div>"
      ],
      "text/plain": [
       "                   Number of Bedrooms  Number of Units\n",
       "Zipcode of Parcel                                     \n",
       "94102.0                      7.118048         6.451759\n",
       "94103.0                      3.823460         3.105450\n",
       "94105.0                      1.519444         1.000000\n",
       "94107.0                      2.047434         1.090987\n",
       "94108.0                      2.868056         2.004630"
      ]
     },
     "execution_count": 24,
     "metadata": {},
     "output_type": "execute_result"
    }
   ],
   "source": [
    "######### Q2-7:\n",
    "#Considering only properties with non-zero numbers of bedrooms and units,\n",
    "#calculate the average number of bedrooms per unit in each zip code.\n",
    "\n",
    "sf_bed_unit = sf_unique.loc[(sf_unique['Number of Bedrooms'] !=0) & (sf_unique['Number of Units'] !=0)]\n",
    "bed_unit_zip = pd.merge(\n",
    "    pd.DataFrame(sf_bed_unit.groupby('Zipcode of Parcel')['Number of Bedrooms'].mean()),\n",
    "    pd.DataFrame(sf_bed_unit.groupby('Zipcode of Parcel')['Number of Units'].mean()),\n",
    "    left_index = True, right_index = True)\n",
    "bed_unit_zip.head()"
   ]
  },
  {
   "cell_type": "code",
   "execution_count": 38,
   "metadata": {
    "collapsed": false
   },
   "outputs": [
    {
     "name": "stdout",
     "output_type": "stream",
     "text": [
      "The maximum ratio of the average bed per average unit in the zip code is 3.8075601375\n"
     ]
    }
   ],
   "source": [
    "bed_unit_zip['ratio']= bed_unit_zip['Number of Bedrooms'] / bed_unit_zip['Number of Units']\n",
    "print 'The maximum ratio of the average bed per average unit in the zip code is %.10f' %bed_unit_zip['ratio'].max()"
   ]
  },
  {
   "cell_type": "code",
   "execution_count": 39,
   "metadata": {
    "collapsed": false
   },
   "outputs": [
    {
     "name": "stdout",
     "output_type": "stream",
     "text": [
      "The largest ratio of property area to surface area of all zip codes is 13.5872646159\n"
     ]
    }
   ],
   "source": [
    "######## Q2-8:\n",
    "#Estimate how built-up each zip code is by comparing the total property area to the total lot area. \n",
    "#What is the largest ratio of property area to surface area of all zip codes?\n",
    "sf_prop_lot = sf_unique.loc[(sf_unique['Property Area in Square Feet'] !=0) \n",
    "                            & (sf_unique['Lot Area'] !=0)]\n",
    "prop_lot_zip = pd.merge(\n",
    "    pd.DataFrame(sf_prop_lot.groupby('Zipcode of Parcel')['Property Area in Square Feet'].sum()),\n",
    "    pd.DataFrame(sf_prop_lot.groupby('Zipcode of Parcel')['Lot Area'].sum()),\n",
    "    left_index = True, right_index = True)\n",
    "prop_lot_zip['ratio'] = prop_lot_zip['Property Area in Square Feet'] / prop_lot_zip['Lot Area']\n",
    "print 'The largest ratio of property area to surface area of all zip codes is %.10f' %prop_lot_zip['ratio'].max()"
   ]
  },
  {
   "cell_type": "code",
   "execution_count": null,
   "metadata": {
    "collapsed": true
   },
   "outputs": [],
   "source": []
  }
 ],
 "metadata": {
  "kernelspec": {
   "display_name": "Python 2",
   "language": "python",
   "name": "python2"
  },
  "language_info": {
   "codemirror_mode": {
    "name": "ipython",
    "version": 2
   },
   "file_extension": ".py",
   "mimetype": "text/x-python",
   "name": "python",
   "nbconvert_exporter": "python",
   "pygments_lexer": "ipython2",
   "version": "2.7.11"
  }
 },
 "nbformat": 4,
 "nbformat_minor": 0
}
